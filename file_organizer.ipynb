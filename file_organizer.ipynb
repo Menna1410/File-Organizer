{
  "nbformat": 4,
  "nbformat_minor": 0,
  "metadata": {
    "colab": {
      "provenance": [],
      "authorship_tag": "ABX9TyM4kYE0PgZokXjSBzPHTWU8",
      "include_colab_link": true
    },
    "kernelspec": {
      "name": "python3",
      "display_name": "Python 3"
    },
    "language_info": {
      "name": "python"
    }
  },
  "cells": [
    {
      "cell_type": "markdown",
      "metadata": {
        "id": "view-in-github",
        "colab_type": "text"
      },
      "source": [
        "<a href=\"https://colab.research.google.com/github/Menna1410/File-Organizer/blob/main/file_organizer.ipynb\" target=\"_parent\"><img src=\"https://colab.research.google.com/assets/colab-badge.svg\" alt=\"Open In Colab\"/></a>"
      ]
    },
    {
      "cell_type": "markdown",
      "source": [
        "# Install dependencies"
      ],
      "metadata": {
        "id": "DO0OdhGearnj"
      }
    },
    {
      "cell_type": "code",
      "execution_count": 1,
      "metadata": {
        "colab": {
          "base_uri": "https://localhost:8080/"
        },
        "id": "sQFx767daT60",
        "outputId": "4f717431-8ee2-4406-e03a-fa2ccb87af96"
      },
      "outputs": [
        {
          "output_type": "stream",
          "name": "stdout",
          "text": [
            "Python 3.11.13\n"
          ]
        }
      ],
      "source": [
        "# For File Organizer we don't need extra packages\n",
        "# Just confirm Python version\n",
        "!python --version"
      ]
    },
    {
      "cell_type": "markdown",
      "source": [
        "# Main Code"
      ],
      "metadata": {
        "id": "uHJ6SOuPa5NJ"
      }
    },
    {
      "cell_type": "code",
      "source": [
        "import os\n",
        "import shutil\n",
        "from datetime import datetime\n",
        "from typing import Dict\n",
        "\n",
        "# File extension → category mapping\n",
        "EXT_MAP: Dict[str, str] = {\n",
        "    \".jpg\": \"Images\", \".jpeg\": \"Images\", \".png\": \"Images\", \".gif\": \"Images\",\n",
        "    \".bmp\": \"Images\", \".tiff\": \"Images\", \".svg\": \"Images\", \".webp\": \"Images\",\n",
        "    \".pdf\": \"Documents\", \".doc\": \"Documents\", \".docx\": \"Documents\",\n",
        "    \".txt\": \"Documents\", \".rtf\": \"Documents\", \".odt\": \"Documents\",\n",
        "    \".xls\": \"Documents\", \".xlsx\": \"Documents\", \".ppt\": \"Documents\", \".pptx\": \"Documents\",\n",
        "    \".md\": \"Documents\",\n",
        "    \".mp4\": \"Videos\", \".mkv\": \"Videos\", \".mov\": \"Videos\", \".avi\": \"Videos\",\n",
        "    \".wmv\": \"Videos\", \".flv\": \"Videos\", \".webm\": \"Videos\",\n",
        "    \".mp3\": \"Others\", \".wav\": \"Others\", \".aac\": \"Others\",\n",
        "}\n",
        "\n",
        "def ensure_dir(path: str):\n",
        "    if not os.path.exists(path):\n",
        "        os.makedirs(path, exist_ok=True)\n",
        "\n",
        "def categorize_filename(filename: str) -> str:\n",
        "    _, ext = os.path.splitext(filename.lower())\n",
        "    return EXT_MAP.get(ext, \"Others\")\n",
        "\n",
        "def organize_folder(folder: str, simulate: bool=False) -> Dict[str, int]:\n",
        "    if not os.path.isdir(folder):\n",
        "        raise FileNotFoundError(f\"Folder not found: {folder}\")\n",
        "    moved_counts: Dict[str, int] = {}\n",
        "    for name in os.listdir(folder):\n",
        "        full_path = os.path.join(folder, name)\n",
        "        if os.path.isfile(full_path):\n",
        "            category = categorize_filename(name)\n",
        "            dest_dir = os.path.join(folder, category)\n",
        "            dest_path = os.path.join(dest_dir, name)\n",
        "            ensure_dir(dest_dir)\n",
        "            if simulate:\n",
        "                print(f\"[SIMULATE] Would move: {name} → {category}/\")\n",
        "            else:\n",
        "                if os.path.exists(dest_path):\n",
        "                    base, ext = os.path.splitext(name)\n",
        "                    stamp = datetime.now().strftime(\"%Y%m%d%H%M%S\")\n",
        "                    dest_path = os.path.join(dest_dir, f\"{base}_{stamp}{ext}\")\n",
        "                shutil.move(full_path, dest_path)\n",
        "                print(f\"Moved: {name} → {category}/\")\n",
        "            moved_counts[category] = moved_counts.get(category, 0) + 1\n",
        "    return moved_counts"
      ],
      "metadata": {
        "id": "UuRyV0obufWK"
      },
      "execution_count": 2,
      "outputs": []
    },
    {
      "cell_type": "markdown",
      "source": [
        "#Testing"
      ],
      "metadata": {
        "id": "jjnGdMTpuvYI"
      }
    },
    {
      "cell_type": "code",
      "source": [
        "# Create test folder and dummy files\n",
        "test_folder = \"test_files\"\n",
        "ensure_dir(test_folder)\n",
        "\n",
        "sample_files = [\"photo.jpg\", \"doc.pdf\", \"video.mp4\", \"notes.txt\", \"audio.mp3\"]\n",
        "for fname in sample_files:\n",
        "    with open(os.path.join(test_folder, fname), \"w\") as f:\n",
        "        f.write(\"dummy content\")\n",
        "\n",
        "# Run in simulate mode\n",
        "print(\"=== Simulate ===\")\n",
        "organize_folder(test_folder, simulate=True)\n",
        "\n",
        "# Run actual move\n",
        "print(\"\\n=== Organize ===\")\n",
        "result = organize_folder(test_folder, simulate=False)\n",
        "\n",
        "print(\"\\nSummary:\")\n",
        "for cat, count in result.items():\n",
        "    print(f\"{cat}: {count}\")\n",
        "print(f\"Total files moved: {sum(result.values())}\")"
      ],
      "metadata": {
        "colab": {
          "base_uri": "https://localhost:8080/"
        },
        "id": "2seGIdjku0ld",
        "outputId": "31eae59b-2c0e-4a9f-f8a7-033cc1badc41"
      },
      "execution_count": 4,
      "outputs": [
        {
          "output_type": "stream",
          "name": "stdout",
          "text": [
            "=== Simulate ===\n",
            "[SIMULATE] Would move: doc.pdf → Documents/\n",
            "[SIMULATE] Would move: notes.txt → Documents/\n",
            "[SIMULATE] Would move: video.mp4 → Videos/\n",
            "[SIMULATE] Would move: audio.mp3 → Others/\n",
            "[SIMULATE] Would move: photo.jpg → Images/\n",
            "\n",
            "=== Organize ===\n",
            "Moved: doc.pdf → Documents/\n",
            "Moved: notes.txt → Documents/\n",
            "Moved: video.mp4 → Videos/\n",
            "Moved: audio.mp3 → Others/\n",
            "Moved: photo.jpg → Images/\n",
            "\n",
            "Summary:\n",
            "Documents: 2\n",
            "Videos: 1\n",
            "Others: 1\n",
            "Images: 1\n",
            "Total files moved: 5\n"
          ]
        }
      ]
    }
  ]
}